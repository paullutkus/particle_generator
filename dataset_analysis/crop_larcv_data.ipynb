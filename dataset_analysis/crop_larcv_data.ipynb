{
 "cells": [
  {
   "cell_type": "code",
   "execution_count": 1,
   "metadata": {},
   "outputs": [],
   "source": [
    "# Imports\n",
    "import os\n",
    "import cv2 as cv\n",
    "import numpy as np\n",
    "import matplotlib.pyplot as plt\n",
    "%matplotlib inline\n",
    "\n",
    "# Scipy center of mass function\n",
    "from scipy.ndimage.measurements import center_of_mass as CoM"
   ]
  },
  {
   "cell_type": "code",
   "execution_count": 2,
   "metadata": {},
   "outputs": [],
   "source": [
    "# Set the location of the LArCV 512x512 data\n",
    "data_root = \"/home/plutku01/data/cv/single_particle/source/raw_png/train/\""
   ]
  },
  {
   "cell_type": "code",
   "execution_count": 3,
   "metadata": {},
   "outputs": [],
   "source": [
    "# List for appending image data\n",
    "image_data = []"
   ]
  },
  {
   "cell_type": "code",
   "execution_count": 4,
   "metadata": {},
   "outputs": [
    {
     "name": "stdout",
     "output_type": "stream",
     "text": [
      "Loading images from /home/plutku01/data/cv/single_particle/source/raw_png/train/\n",
      "Finished loading 162978 images\n"
     ]
    }
   ],
   "source": [
    "# Load the 512x512 data\n",
    "print(\"Loading images from {}\".format(data_root))\n",
    "\n",
    "for image_path in os.listdir(data_root):\n",
    "    in_path = os.path.join(data_root, image_path)\n",
    "    image_data.append(cv.imread(in_path, 0))\n",
    "\n",
    "print(\"Finished loading {} images\".format(len(image_data)))"
   ]
  },
  {
   "cell_type": "code",
   "execution_count": 5,
   "metadata": {},
   "outputs": [],
   "source": [
    "#########################################\n",
    "imsize = 256 # Do not change this value #\n",
    "#########################################"
   ]
  },
  {
   "cell_type": "markdown",
   "metadata": {},
   "source": [
    "----\n",
    "### Once the LArCV 512 image data is loaded, the cropping procedure can be run any number of times\n",
    "----"
   ]
  },
  {
   "cell_type": "code",
   "execution_count": 6,
   "metadata": {},
   "outputs": [],
   "source": [
    "# Set the desired crop size and set the save location for the new image crops\n",
    "crop_dim = 64\n",
    "crop_bound = crop_dim//2\n",
    "save_path = '/home/plutku01/data/cv/single_particle/test/larcv_png_{}/larcv_png_{}/'.format(crop_dim, crop_dim)"
   ]
  },
  {
   "cell_type": "code",
   "execution_count": 7,
   "metadata": {},
   "outputs": [],
   "source": [
    "# Set up list for saving cropped images\n",
    "im_crops = []"
   ]
  },
  {
   "cell_type": "code",
   "execution_count": 8,
   "metadata": {},
   "outputs": [],
   "source": [
    "# Set up variables for logging centroids\n",
    "centroids_x = []; centroids_y = []"
   ]
  },
  {
   "cell_type": "code",
   "execution_count": 9,
   "metadata": {},
   "outputs": [
    {
     "name": "stdout",
     "output_type": "stream",
     "text": [
      "Original data image size: 256x256\n",
      "Size of crops to be generated: 64x64\n",
      "Cropping boundaries: \n",
      "x_min: 32 | x_max: 224\n",
      "y_min: 32 | y_max: 224\n"
     ]
    }
   ],
   "source": [
    "# Report the size of the image crops that will be generated\n",
    "print(\"Original data image size: {}x{}\".format(imsize,imsize))\n",
    "print(\"Size of crops to be generated: {}x{}\".format(crop_dim, crop_dim))\n",
    "print(\"Cropping boundaries: \")\n",
    "print(\"x_min: {} | x_max: {}\".format(crop_bound, imsize - crop_bound))\n",
    "print(\"y_min: {} | y_max: {}\".format(crop_bound, imsize - crop_bound))"
   ]
  },
  {
   "cell_type": "code",
   "execution_count": 10,
   "metadata": {},
   "outputs": [],
   "source": [
    "# Set up list for saving %-fills\n",
    "fill_percents = []"
   ]
  },
  {
   "cell_type": "markdown",
   "metadata": {},
   "source": [
    "### Compute set of cropped images"
   ]
  },
  {
   "cell_type": "code",
   "execution_count": 11,
   "metadata": {},
   "outputs": [
    {
     "name": "stderr",
     "output_type": "stream",
     "text": [
      "/home/plutku01/.local/lib/python3.6/site-packages/scipy/ndimage/measurements.py:1386: RuntimeWarning: invalid value encountered in double_scalars\n",
      "  for dir in range(input.ndim)]\n"
     ]
    }
   ],
   "source": [
    "for idx, image in enumerate(image_data):\n",
    "    if len(im_crops) == 10000:\n",
    "        break\n",
    "    # Get the weighted centroid position\n",
    "    com = CoM(image)\n",
    "    \n",
    "    # check if computation returned NaN -- happens when centroid location is non-sensical\n",
    "    if com[0] != com[0]:\n",
    "        del image\n",
    "        continue\n",
    "\n",
    "    # Track centroids\n",
    "    centroids_x.append(int(com[0]))\n",
    "    centroids_y.append(int(com[1]))\n",
    "    \n",
    "    # Ensure that the centroid location in within acceptable bounds from the edge\n",
    "    check_x = (centroids_x[-1] > crop_bound) and (centroids_x[-1] < (imsize - crop_bound))\n",
    "    check_y = (centroids_y[-1] > crop_bound) and (centroids_y[-1] < (imsize - crop_bound))\n",
    "    \n",
    "    if check_x and check_y:\n",
    "        # Set the bounds of the crop box based on centroid coordinates\n",
    "        x1 = centroids_x[-1] - crop_bound; x2 = centroids_x[-1] + crop_bound\n",
    "        y1 = centroids_y[-1] - crop_bound; y2 = centroids_y[-1] + crop_bound\n",
    "        \n",
    "        # Crop the image\n",
    "        image = image[x1:x2, y1:y2]\n",
    "        \n",
    "        # Check that the cropped image is at least 1% filled\n",
    "        pix_check = np.where(image > 0, 1, 0)\n",
    "        pix_percentage = (np.sum(pix_check) / pix_check.flatten().shape[0]) >= 0.01\n",
    "        fill_percentage = np.sum(pix_check) / pix_check.flatten().shape[0]\n",
    "        if not pix_percentage:\n",
    "            del image\n",
    "            continue\n",
    "        del pix_check\n",
    "        \n",
    "        # Image passes - append\n",
    "        im_crops.append(image)\n",
    "        fill_percents.append(fill_percentage)\n",
    "    else:\n",
    "        del image\n",
    "        continue"
   ]
  },
  {
   "cell_type": "code",
   "execution_count": 12,
   "metadata": {},
   "outputs": [
    {
     "name": "stdout",
     "output_type": "stream",
     "text": [
      "------------------------------------------------------------\n",
      "Generated 10000 images at [64x64] resolution\n",
      "This represents ~0.06 percent of the original dataset\n",
      "------------------------------------------------------------\n"
     ]
    }
   ],
   "source": [
    "print(\"-\"*60)\n",
    "print(\"Generated {} images at [{}x{}] resolution\".format(len(im_crops), crop_dim, crop_dim))\n",
    "print(\"This represents ~{} percent of the original dataset\".format( round(len(im_crops)/len(image_data),2) ) )\n",
    "print(\"-\"*60)"
   ]
  },
  {
   "cell_type": "code",
   "execution_count": 13,
   "metadata": {},
   "outputs": [
    {
     "data": {
      "image/png": "[encoded data removed]",
      "text/plain": [
       "<Figure size 432x288 with 1 Axes>"
      ]
     },
     "metadata": {
      "needs_background": "light"
     },
     "output_type": "display_data"
    }
   ],
   "source": [
    "plt.hist(fill_percents, density=False, bins=100)\n",
    "plt.title('% of Pixels Filled (Train)')\n",
    "plt.ylabel('Count')\n",
    "plt.xlabel('% Filled');"
   ]
  },
  {
   "cell_type": "markdown",
   "metadata": {},
   "source": [
    "### Grab sample of newly cropped images"
   ]
  },
  {
   "cell_type": "code",
   "execution_count": 14,
   "metadata": {},
   "outputs": [
    {
     "data": {
      "image/png": "[encoded data removed]",
      "text/plain": [
       "<Figure size 432x288 with 17 Axes>"
      ]
     },
     "metadata": {},
     "output_type": "display_data"
    }
   ],
   "source": [
    "n_row = 4; n_col = 4\n",
    "fig, axes = plt.subplots(n_row, n_col)\n",
    "fig.suptitle(\"Selection of Cropped {}x{} LArCV1 Images\".format(crop_dim, crop_dim), color=\"white\")\n",
    "img = None; im_num = 0\n",
    "for i in range(0, n_row):\n",
    "    for j in range(0, n_col):\n",
    "        img = axes[i,j].imshow(im_crops[im_num])\n",
    "        axes[i,j].spines['bottom'].set_color('white')\n",
    "        axes[i,j].spines['top'].set_color('white')\n",
    "        axes[i,j].spines['left'].set_color('white')\n",
    "        axes[i,j].spines['right'].set_color('white')\n",
    "        axes[i,j].xaxis.label.set_color('white')\n",
    "        axes[i,j].yaxis.label.set_color('white')\n",
    "        axes[i,j].tick_params(axis='x', colors='#443941')\n",
    "        axes[i,j].tick_params(axis='y', colors='#443941')\n",
    "        im_num += 1\n",
    "\n",
    "# Colorbar\n",
    "cbar_axes = fig.add_axes([0.9, 0.1, 0.03, 0.8])\n",
    "cbar = plt.colorbar(img, cax=cbar_axes)\n",
    "cbar.ax.yaxis.set_tick_params(color=\"white\")\n",
    "cbar.outline.set_edgecolor(color=\"white\")\n",
    "plt.setp(plt.getp(cbar.ax.axes, 'yticklabels'), color=\"white\")\n",
    "\n",
    "plt.savefig(\"random_selection_scipy_cropped_{}x{}_images.png\".format(crop_dim, crop_dim), dpi=300, facecolor='#443941')"
   ]
  },
  {
   "cell_type": "markdown",
   "metadata": {},
   "source": [
    "### Save newly cropped images to specified save_path"
   ]
  },
  {
   "cell_type": "code",
   "execution_count": 15,
   "metadata": {},
   "outputs": [],
   "source": [
    "# Check that save_path exists\n",
    "if not os.path.exists(save_path):\n",
    "    os.makedirs(save_path)\n",
    "\n",
    "for idx, crop in enumerate(im_crops):\n",
    "    im_name = \"larcv_{}_{}.png\".format(crop_dim, idx)\n",
    "    out_path = os.path.join(save_path, im_name)\n",
    "    \n",
    "    #cv.imwrite(out_path, crop)"
   ]
  },
  {
   "cell_type": "code",
   "execution_count": 16,
   "metadata": {},
   "outputs": [
    {
     "name": "stdout",
     "output_type": "stream",
     "text": [
      "Saved 10000 images to: /home/plutku01/data/cv/single_particle/test/larcv_png_64/larcv_png_64/\n"
     ]
    }
   ],
   "source": [
    "print(\"Saved {} images to: {}\".format(len(im_crops), save_path))"
   ]
  },
  {
   "cell_type": "code",
   "execution_count": null,
   "metadata": {},
   "outputs": [],
   "source": []
  }
 ],
 "metadata": {
  "kernelspec": {
   "display_name": "Python 3",
   "language": "python",
   "name": "python3"
  },
  "language_info": {
   "codemirror_mode": {
    "name": "ipython",
    "version": 3
   },
   "file_extension": ".py",
   "mimetype": "text/x-python",
   "name": "python",
   "nbconvert_exporter": "python",
   "pygments_lexer": "ipython3",
   "version": "3.6.9"
  }
 },
 "nbformat": 4,
 "nbformat_minor": 2
}

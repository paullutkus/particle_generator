{
 "cells": [
  {
   "cell_type": "code",
   "execution_count": 1,
   "metadata": {},
   "outputs": [
    {
     "name": "stdout",
     "output_type": "stream",
     "text": [
      "Welcome to JupyROOT 6.16/00\n"
     ]
    }
   ],
   "source": [
    "import os\n",
    "import numpy as np\n",
    "\n",
    "import ROOT\n",
    "from ROOT import TChain\n",
    "from larcv import larcv\n",
    "\n",
    "import torch\n",
    "import torch.utils.data\n",
    "import torchvision\n",
    "from torchvision import datasets, transforms \n",
    "from torchvision.utils import save_image\n",
    "\n",
    "import matplotlib.pyplot as plt\n",
    "%matplotlib inline"
   ]
  },
  {
   "cell_type": "code",
   "execution_count": 2,
   "metadata": {},
   "outputs": [],
   "source": [
    "train_path = '/home/plutku01/data/cv/single_particle/source/raw_png/train/'\n",
    "test_path = '/home/plutku01/data/cv/single_particle/source/raw_png/test/'\n",
    "\n",
    "train_fname = '/home/plutku01/data/cv/single_particle/source/train_50k.root'\n",
    "test_fname = '/home/plutku01/data/cv/single_particle/source/test_40k.root'"
   ]
  },
  {
   "cell_type": "code",
   "execution_count": 3,
   "metadata": {},
   "outputs": [
    {
     "name": "stdout",
     "output_type": "stream",
     "text": [
      "(50000L, 'entries found')\n",
      "TFile**\t\t/home/plutku01/data/cv/single_particle/source/train_50k.root\t\n",
      " TFile*\t\t/home/plutku01/data/cv/single_particle/source/train_50k.root\t\n",
      "  KEY: TTree\timage2d_data_tree;1\tdata tree\n",
      "  KEY: TTree\tparticle_mctruth_tree;1\tmctruth tree\n"
     ]
    }
   ],
   "source": [
    "ROOT.TFile.Open(train_fname).ls()\n",
    "\n",
    "chain_image2d = ROOT.TChain('image2d_data_tree')\n",
    "chain_image2d.AddFile('/home/plutku01/data/cv/single_particle/source/train_50k.root')\n",
    "num_events = chain_image2d.GetEntries()\n",
    "print(num_events, 'entries found')"
   ]
  },
  {
   "cell_type": "code",
   "execution_count": 4,
   "metadata": {},
   "outputs": [],
   "source": [
    "chain_particle = ROOT.TChain('particle_mctruth_tree')\n",
    "chain_particle.AddFile('/home/plutku01/data/cv/single_particle/source/train_50k.root')\n",
    "momentums = []"
   ]
  },
  {
   "cell_type": "code",
   "execution_count": 5,
   "metadata": {},
   "outputs": [],
   "source": [
    "img_num = 0\n",
    "for idx in range(num_events):\n",
    "    chain_image2d.GetEntry(idx)\n",
    "    chain_particle.GetEntry(idx)\n",
    "    part_cpp_object = chain_particle.particle_mctruth_branch\n",
    "    for particle in part_cpp_object.as_vector():\n",
    "        pdg = int(particle.pdg_code())\n",
    "        total_energy = particle.energy_init() * 1000.\n",
    "        momentum = np.sqrt(np.power(total_energy,2) - np.power(larcv.ParticleMass(pdg),2))\n",
    "        momentums.append(momentum)\n",
    "    cpp_object = chain_image2d.image2d_data_branch\n",
    "    image2d_array = cpp_object.as_vector()\n",
    "#   planes = []\n",
    "#   for plane in image2d_array:\n",
    "#       planes.append(torch.sum(torch.from_numpy(larcv.as_ndarray(plane))))\n",
    "#   img_idx = planes.index(max(planes))\n",
    "    for plane in image2d_array:\n",
    "        img = torch.from_numpy(larcv.as_ndarray(plane))\n",
    "        img_name = train_path + 'larcv_256_{}.png'.format(img_num)\n",
    "        #torchvision.utils.save_image(img, img_name, normalize=True)\n",
    "        img_num += 1"
   ]
  },
  {
   "cell_type": "code",
   "execution_count": 6,
   "metadata": {},
   "outputs": [
    {
     "data": {
      "image/png": "[encoded data removed]",
      "text/plain": [
       "<Figure size 432x288 with 1 Axes>"
      ]
     },
     "metadata": {
      "needs_background": "light"
     },
     "output_type": "display_data"
    }
   ],
   "source": [
    "plt.hist(momentums, density=False, bins=100)\n",
    "plt.title('Event Momentum Distribution (Train)')\n",
    "plt.ylabel('Count')\n",
    "plt.xlabel('Momentum');"
   ]
  },
  {
   "cell_type": "code",
   "execution_count": 7,
   "metadata": {},
   "outputs": [
    {
     "name": "stdout",
     "output_type": "stream",
     "text": [
      "(40000L, 'entries found')\n",
      "TFile**\t\t/home/plutku01/data/cv/single_particle/source/test_40k.root\t\n",
      " TFile*\t\t/home/plutku01/data/cv/single_particle/source/test_40k.root\t\n",
      "  KEY: TTree\timage2d_data_tree;1\tdata tree\n",
      "  KEY: TTree\tparticle_mctruth_tree;1\tmctruth tree\n"
     ]
    }
   ],
   "source": [
    "ROOT.TFile.Open(test_fname).ls()\n",
    "\n",
    "chain_image2d = ROOT.TChain('image2d_data_tree')\n",
    "chain_image2d.AddFile('/home/plutku01/data/cv/single_particle/source/test_40k.root')\n",
    "num_events = chain_image2d.GetEntries()\n",
    "print(num_events, 'entries found')"
   ]
  },
  {
   "cell_type": "code",
   "execution_count": 8,
   "metadata": {},
   "outputs": [],
   "source": [
    "chain_particle = ROOT.TChain('particle_mctruth_tree')\n",
    "chain_particle.AddFile('/home/plutku01/data/cv/single_particle/source/test_40k.root')\n",
    "momentums = []"
   ]
  },
  {
   "cell_type": "code",
   "execution_count": 9,
   "metadata": {},
   "outputs": [],
   "source": [
    "img_num = 0\n",
    "for idx in range(num_events):\n",
    "    chain_image2d.GetEntry(idx)\n",
    "    chain_particle.GetEntry(idx)\n",
    "    part_cpp_object = chain_particle.particle_mctruth_branch\n",
    "    for particle in part_cpp_object.as_vector():\n",
    "        pdg = int(particle.pdg_code())\n",
    "        total_energy = particle.energy_init() * 1000.\n",
    "        momentum = np.sqrt(np.power(total_energy,2) - np.power(larcv.ParticleMass(pdg),2))\n",
    "        momentums.append(momentum)\n",
    "    particle = chain_particle.particle_mctruth_branch.as_vector().front()\n",
    "    cpp_object = chain_image2d.image2d_data_branch\n",
    "    image2d_array = cpp_object.as_vector()\n",
    "    for plane in image2d_array:\n",
    "        img = torch.from_numpy(larcv.as_ndarray(plane))\n",
    "        img_name = test_path + 'larcv_256_{}.png'.format(img_num)\n",
    "        #torchvision.utils.save_image(img, img_name, normalize=True)\n",
    "        img_num += 1"
   ]
  },
  {
   "cell_type": "code",
   "execution_count": 10,
   "metadata": {},
   "outputs": [
    {
     "data": {
      "image/png": "[encoded data removed]",
      "text/plain": [
       "<Figure size 432x288 with 1 Axes>"
      ]
     },
     "metadata": {
      "needs_background": "light"
     },
     "output_type": "display_data"
    }
   ],
   "source": [
    "plt.hist(momentums, density=False, bins=100)\n",
    "plt.title('Event Momentum Distribution (Test)')\n",
    "plt.ylabel('Count')\n",
    "plt.xlabel('Momentum');"
   ]
  }
 ],
 "metadata": {
  "kernelspec": {
   "display_name": "Python 2",
   "language": "python",
   "name": "python2"
  },
  "language_info": {
   "codemirror_mode": {
    "name": "ipython",
    "version": 2
   },
   "file_extension": ".py",
   "mimetype": "text/x-python",
   "name": "python",
   "nbconvert_exporter": "python",
   "pygments_lexer": "ipython2",
   "version": "2.7.17"
  }
 },
 "nbformat": 4,
 "nbformat_minor": 2
}

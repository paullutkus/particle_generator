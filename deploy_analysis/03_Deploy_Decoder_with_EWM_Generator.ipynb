{
 "cells": [
  {
   "cell_type": "code",
   "execution_count": 1,
   "metadata": {},
   "outputs": [],
   "source": [
    "import os\n",
    "import torch\n",
    "import numpy as np\n",
    "import pandas as pd\n",
    "import torchvision\n",
    "import scipy as scp\n",
    "from torchvision import transforms\n",
    "from torch.utils.data import DataLoader\n",
    "import matplotlib.pyplot as plt\n",
    "%matplotlib inline"
   ]
  },
  {
   "cell_type": "code",
   "execution_count": 2,
   "metadata": {},
   "outputs": [],
   "source": [
    "import sys\n",
    "sys.path.insert(1, '/home/plutku01/projects/particle_generator/')\n",
    "\n",
    "# Mayer Machine\n",
    "import ae\n",
    "import conv_ae\n",
    "import res_ae\n",
    "import ewm\n",
    "import utils\n",
    "import setup_model\n",
    "from dataloader import LArCV_loader"
   ]
  },
  {
   "cell_type": "markdown",
   "metadata": {},
   "source": [
    "#### Set the GPU to be used for model evaluation\n",
    "- On Meitner, GPU 1 is the best option"
   ]
  },
  {
   "cell_type": "code",
   "execution_count": 3,
   "metadata": {},
   "outputs": [],
   "source": [
    "# Which is best on Mayer?\n",
    "device = torch.device(1)"
   ]
  },
  {
   "cell_type": "markdown",
   "metadata": {},
   "source": [
    "#### Set the root path of the AutoEncoder Experiments Folder"
   ]
  },
  {
   "cell_type": "code",
   "execution_count": 4,
   "metadata": {},
   "outputs": [],
   "source": [
    "exp_root = \"/home/plutku01/projects/particle_generator/experiments/\""
   ]
  },
  {
   "cell_type": "markdown",
   "metadata": {},
   "source": [
    "#### Select the model class and append to the experiment root"
   ]
  },
  {
   "cell_type": "code",
   "execution_count": 5,
   "metadata": {},
   "outputs": [],
   "source": [
    "mlp = False\n",
    "model_type = 'res'\n",
    "if mlp:\n",
    "    AE_root = exp_root + 'larcv_ae/mlp_ae/'\n",
    "    EWM_root = exp_root + 'ewm_models/mlp_ewm/'\n",
    "else:\n",
    "    AE_root = exp_root + 'larcv_ae/' + model_type + '_ae/'\n",
    "    EWM_root = exp_root + 'ewm_models/conv_ewm/'"
   ]
  },
  {
   "cell_type": "code",
   "execution_count": 6,
   "metadata": {},
   "outputs": [],
   "source": [
    "# Path to model weights\n",
    "weights_dir = \"weights/\""
   ]
  },
  {
   "cell_type": "markdown",
   "metadata": {},
   "source": [
    "# Select the AutoEncoder and Generator Models you want to deploy"
   ]
  },
  {
   "cell_type": "markdown",
   "metadata": {},
   "source": [
    "## Get the names of all the saved AutoEncoder experiments in the exp_root folder"
   ]
  },
  {
   "cell_type": "code",
   "execution_count": 7,
   "metadata": {},
   "outputs": [
    {
     "name": "stdout",
     "output_type": "stream",
     "text": [
      "------------------------------------------------------------\n",
      "\n",
      " Exp_0: 07-20-2020_10-49-24_res_ae_100_epochs_LArCV_64_dataset_512_l-dim \n",
      "\n",
      "------------------------------------------------------------\n",
      "\n",
      " Exp_1: 08-20-2020_07-59-37_res_ae_200_epochs_LArCV_64_dataset_512_l-dim \n",
      "\n",
      "------------------------------------------------------------\n",
      "\n",
      " Exp_2: 08-13-2020_06-45-15_res_ae_100_epochs_LArCV_64_dataset_512_l-dim \n",
      "\n",
      "------------------------------------------------------------\n"
     ]
    }
   ],
   "source": [
    "AE_paths = []\n",
    "for path in os.listdir(AE_root):\n",
    "    AE_paths.append(os.path.join(AE_root, path))\n",
    "\n",
    "print(\"-\"*60)\n",
    "for i in range(len(AE_paths)):\n",
    "    AE_name = AE_paths[i].split('/')[-1]\n",
    "    print(\"\\n Exp_{}:\".format(str(i)), AE_name, '\\n')\n",
    "    print(\"-\"*60)"
   ]
  },
  {
   "cell_type": "markdown",
   "metadata": {},
   "source": [
    "## Select the AutoEncoder experiment you want"
   ]
  },
  {
   "cell_type": "code",
   "execution_count": 8,
   "metadata": {},
   "outputs": [],
   "source": [
    "AE_dir = AE_paths[1]"
   ]
  },
  {
   "cell_type": "code",
   "execution_count": 9,
   "metadata": {},
   "outputs": [
    {
     "name": "stdout",
     "output_type": "stream",
     "text": [
      "Path to AutoEncoder set as: \n",
      "/home/plutku01/projects/particle_generator/experiments/larcv_ae/res_ae/08-20-2020_07-59-37_res_ae_200_epochs_LArCV_64_dataset_512_l-dim/\n"
     ]
    }
   ],
   "source": [
    "# Create the full path to the AutoEncoder experiment\n",
    "AE_path = os.path.join(AE_root, AE_dir) + \"/\"\n",
    "print(\"Path to AutoEncoder set as: \\n{}\".format(AE_path))"
   ]
  },
  {
   "cell_type": "markdown",
   "metadata": {},
   "source": [
    "## Get the names of all the saved EWM Generator models"
   ]
  },
  {
   "cell_type": "code",
   "execution_count": 10,
   "metadata": {},
   "outputs": [
    {
     "name": "stdout",
     "output_type": "stream",
     "text": [
      "------------------------------------------------------------\n",
      "\n",
      " Exp_0: 08-20-2020_09-25-07_ewm_100_epochs_Code_Vectors_64_512 \n",
      "\n",
      "------------------------------------------------------------\n",
      "\n",
      " Exp_1: 08-13-2020_09-18-28_ewm_100_epochs_Code_Vectors_64_512 \n",
      "\n",
      "------------------------------------------------------------\n"
     ]
    }
   ],
   "source": [
    "EWM_paths = []\n",
    "EWM_root += 'evaluated_models/'\n",
    "for path in os.listdir(EWM_root):\n",
    "    EWM_paths.append(os.path.join(EWM_root, path))\n",
    "\n",
    "print(\"-\"*60)\n",
    "for i in range(len(EWM_paths)):\n",
    "    EWM_name = EWM_paths[i].split('/')[-1]\n",
    "    print(\"\\n Exp_{}:\".format(str(i)), EWM_name, '\\n')\n",
    "    print(\"-\"*60)"
   ]
  },
  {
   "cell_type": "markdown",
   "metadata": {},
   "source": [
    "## Select the EWM model experiment you want"
   ]
  },
  {
   "cell_type": "code",
   "execution_count": 11,
   "metadata": {},
   "outputs": [],
   "source": [
    "EWM_dir = EWM_paths[0]"
   ]
  },
  {
   "cell_type": "code",
   "execution_count": 12,
   "metadata": {},
   "outputs": [
    {
     "name": "stdout",
     "output_type": "stream",
     "text": [
      "Path to EWM Generator Model set as: \n",
      "/home/plutku01/projects/particle_generator/experiments/ewm_models/conv_ewm/evaluated_models/08-20-2020_09-25-07_ewm_100_epochs_Code_Vectors_64_512/\n"
     ]
    }
   ],
   "source": [
    "# Create the full path to the EWM model\n",
    "EWM_path = os.path.join(EWM_root, EWM_dir) + \"/\"\n",
    "print(\"Path to EWM Generator Model set as: \\n{}\".format(EWM_path))"
   ]
  },
  {
   "cell_type": "markdown",
   "metadata": {},
   "source": [
    "# Load selected models from checkpoint and onto GPU"
   ]
  },
  {
   "cell_type": "markdown",
   "metadata": {},
   "source": [
    "## Load the AE config .csv as a dict\n",
    "- Get the model architecture from the config_df"
   ]
  },
  {
   "cell_type": "code",
   "execution_count": 13,
   "metadata": {},
   "outputs": [],
   "source": [
    "config_csv = AE_path + \"config.csv\"\n",
    "config_df = pd.read_csv(config_csv, delimiter = \",\")"
   ]
  },
  {
   "cell_type": "code",
   "execution_count": 14,
   "metadata": {},
   "outputs": [],
   "source": [
    "# Get the model architecture from config df\n",
    "num_epochs = int(config_df[config_df['Unnamed: 0'].str.contains(\"epochs\")==True]['0'].values.item())\n",
    "n_layers = int(config_df[config_df['Unnamed: 0'].str.contains(\"n_layers\")==True]['0'].values.item())\n",
    "l_dim    = int(config_df[config_df['Unnamed: 0'].str.contains(\"l_dim\")==True]['0'].values.item())\n",
    "depth    = int(config_df[config_df['Unnamed: 0'].str.contains(\"depth\")==True]['0'].values.item())\n",
    "im_size  = int(config_df[config_df['Unnamed: 0'].str.contains(\"dataset\")==True]['0'].values.item())**2\n",
    "im_dim   = int(np.sqrt(im_size))\n"
   ]
  },
  {
   "cell_type": "markdown",
   "metadata": {},
   "source": [
    "## Set up AutoEncoder model on the GPU"
   ]
  },
  {
   "cell_type": "markdown",
   "metadata": {},
   "source": [
    "### Compute the layer dimensions for the AutoEncoder\n",
    "- TODO: Need to add function that deals with an AutoEncoder Model trained on MNIST"
   ]
  },
  {
   "cell_type": "code",
   "execution_count": 15,
   "metadata": {},
   "outputs": [],
   "source": [
    "# Set up AE layer sizes\n",
    "if 'mlp' in AE_root:    \n",
    "    base = [256] \n",
    "\n",
    "    # Compute encoder sizes\n",
    "    sizes = lambda: [ (yield 2**i) for i in range(n_layers) ]\n",
    "    enc_sizes = base * n_layers\n",
    "    enc_sizes = [a*b for a,b in zip(enc_sizes, [*sizes()])][::-1]\n",
    "\n",
    "    # Update kwarg dicts\n",
    "    # Decoder is the reverse of the encoder\n",
    "    ae_kwargs = {'enc_sizes' : enc_sizes, 'l_dim' : l_dim, 'im_size' : im_size, 'dec_sizes' : enc_sizes[::-1]}\n",
    "else:\n",
    "    # Compute the depth of the feature maps, based on the number of\n",
    "    # specified layers. If depth is not divisibe by 4, warn\n",
    "    depth   = [depth] * n_layers\n",
    "    divisor = lambda: [ (yield 2**i) for i in range(n_layers) ]\n",
    "    depth   = [a//b for a,b in zip(depth, [*divisor()])][::-1]\n",
    "    if model_type == 'res':\n",
    "        strides = [1] + ([2] * n_layers)\n",
    "        \n",
    "    # Update kwarg dicts\n",
    "    # Decoder is the reverse of the encoder\n",
    "    ae_kwargs = {'enc_depth':[1] + depth, 'dec_depth':depth[1:len(depth)][::-1] + [1],'l_dim':l_dim,'strides':strides}"
   ]
  },
  {
   "cell_type": "code",
   "execution_count": 16,
   "metadata": {},
   "outputs": [
    {
     "name": "stdout",
     "output_type": "stream",
     "text": [
      "Model l_dim: 512\n",
      "Encoder depth: [1, 4, 8, 16, 32, 64]\n",
      "Decoder depth: [64, 32, 16, 8, 1]\n"
     ]
    }
   ],
   "source": [
    "print(\"Model l_dim: {}\".format(l_dim))\n",
    "print(\"Encoder depth: {}\".format(ae_kwargs['enc_depth']))\n",
    "print(\"Decoder depth: {}\".format(ae_kwargs['dec_depth']))"
   ]
  },
  {
   "cell_type": "code",
   "execution_count": 17,
   "metadata": {},
   "outputs": [],
   "source": [
    "# Set up model on GPU\n",
    "if 'mlp' in AE_root:\n",
    "    model = ae.AutoEncoder(**ae_kwargs).to(device)\n",
    "else:\n",
    "    model = res_ae.ResAutoEncoder(**ae_kwargs).to(device)"
   ]
  },
  {
   "cell_type": "markdown",
   "metadata": {},
   "source": [
    "## Load the AE model checkpoint"
   ]
  },
  {
   "cell_type": "code",
   "execution_count": 18,
   "metadata": {},
   "outputs": [],
   "source": [
    "# Get checkpoint name(s)\n",
    "AE_checkpoint_path  = AE_path + weights_dir\n",
    "AE_checkpoint_names = []\n",
    "for file in os.listdir(AE_checkpoint_path):\n",
    "    AE_checkpoint_names.append(os.path.join(AE_checkpoint_path, file))"
   ]
  },
  {
   "cell_type": "code",
   "execution_count": 19,
   "metadata": {},
   "outputs": [
    {
     "name": "stdout",
     "output_type": "stream",
     "text": [
      "------------------------------------------------------------\n",
      "\n",
      "0: best_res_ae_ep_199.tar \n",
      "\n",
      "------------------------------------------------------------\n"
     ]
    }
   ],
   "source": [
    "print(\"-\"*60)\n",
    "for i in range(len(AE_checkpoint_names)):\n",
    "    name = AE_checkpoint_names[i].split('/')[-1]\n",
    "    AE_checkpoint_names.append(name)\n",
    "    print(\"\\n{}:\".format(str(i)), name, '\\n')\n",
    "    print(\"-\"*60)"
   ]
  },
  {
   "cell_type": "code",
   "execution_count": 20,
   "metadata": {},
   "outputs": [],
   "source": [
    "# Select the desired checkpoint from the list\n",
    "AE_checkpoint = AE_checkpoint_names[0]"
   ]
  },
  {
   "cell_type": "code",
   "execution_count": 21,
   "metadata": {},
   "outputs": [],
   "source": [
    "# Load the model checkpoint\n",
    "# Keys: ['state_dict', 'epoch', 'optimizer']\n",
    "checkpoint = torch.load(AE_checkpoint)"
   ]
  },
  {
   "cell_type": "code",
   "execution_count": 22,
   "metadata": {},
   "outputs": [
    {
     "ename": "RuntimeError",
     "evalue": "Error(s) in loading state_dict for ResAutoEncoder:\n\tUnexpected key(s) in state_dict: \"decoder.double_res.res1.bypass.weight\". \n\tsize mismatch for decoder.res_dec_blocks.3.deconv.weight: copying a param with shape torch.Size([8, 4, 4, 4]) from checkpoint, the shape in current model is torch.Size([8, 1, 4, 4]).\n\tsize mismatch for decoder.res_dec_blocks.3.res.res1.conv1.weight: copying a param with shape torch.Size([4, 4, 3, 3]) from checkpoint, the shape in current model is torch.Size([1, 1, 3, 3]).\n\tsize mismatch for decoder.res_dec_blocks.3.res.res1.bn1.weight: copying a param with shape torch.Size([4]) from checkpoint, the shape in current model is torch.Size([1]).\n\tsize mismatch for decoder.res_dec_blocks.3.res.res1.bn1.bias: copying a param with shape torch.Size([4]) from checkpoint, the shape in current model is torch.Size([1]).\n\tsize mismatch for decoder.res_dec_blocks.3.res.res1.bn1.running_mean: copying a param with shape torch.Size([4]) from checkpoint, the shape in current model is torch.Size([1]).\n\tsize mismatch for decoder.res_dec_blocks.3.res.res1.bn1.running_var: copying a param with shape torch.Size([4]) from checkpoint, the shape in current model is torch.Size([1]).\n\tsize mismatch for decoder.res_dec_blocks.3.res.res1.conv2.weight: copying a param with shape torch.Size([4, 4, 3, 3]) from checkpoint, the shape in current model is torch.Size([1, 1, 3, 3]).\n\tsize mismatch for decoder.res_dec_blocks.3.res.res1.bn2.weight: copying a param with shape torch.Size([4]) from checkpoint, the shape in current model is torch.Size([1]).\n\tsize mismatch for decoder.res_dec_blocks.3.res.res1.bn2.bias: copying a param with shape torch.Size([4]) from checkpoint, the shape in current model is torch.Size([1]).\n\tsize mismatch for decoder.res_dec_blocks.3.res.res1.bn2.running_mean: copying a param with shape torch.Size([4]) from checkpoint, the shape in current model is torch.Size([1]).\n\tsize mismatch for decoder.res_dec_blocks.3.res.res1.bn2.running_var: copying a param with shape torch.Size([4]) from checkpoint, the shape in current model is torch.Size([1]).\n\tsize mismatch for decoder.res_dec_blocks.3.res.res2.conv1.weight: copying a param with shape torch.Size([4, 4, 3, 3]) from checkpoint, the shape in current model is torch.Size([1, 1, 3, 3]).\n\tsize mismatch for decoder.res_dec_blocks.3.res.res2.bn1.weight: copying a param with shape torch.Size([4]) from checkpoint, the shape in current model is torch.Size([1]).\n\tsize mismatch for decoder.res_dec_blocks.3.res.res2.bn1.bias: copying a param with shape torch.Size([4]) from checkpoint, the shape in current model is torch.Size([1]).\n\tsize mismatch for decoder.res_dec_blocks.3.res.res2.bn1.running_mean: copying a param with shape torch.Size([4]) from checkpoint, the shape in current model is torch.Size([1]).\n\tsize mismatch for decoder.res_dec_blocks.3.res.res2.bn1.running_var: copying a param with shape torch.Size([4]) from checkpoint, the shape in current model is torch.Size([1]).\n\tsize mismatch for decoder.res_dec_blocks.3.res.res2.conv2.weight: copying a param with shape torch.Size([4, 4, 3, 3]) from checkpoint, the shape in current model is torch.Size([1, 1, 3, 3]).\n\tsize mismatch for decoder.res_dec_blocks.3.res.res2.bn2.weight: copying a param with shape torch.Size([4]) from checkpoint, the shape in current model is torch.Size([1]).\n\tsize mismatch for decoder.res_dec_blocks.3.res.res2.bn2.bias: copying a param with shape torch.Size([4]) from checkpoint, the shape in current model is torch.Size([1]).\n\tsize mismatch for decoder.res_dec_blocks.3.res.res2.bn2.running_mean: copying a param with shape torch.Size([4]) from checkpoint, the shape in current model is torch.Size([1]).\n\tsize mismatch for decoder.res_dec_blocks.3.res.res2.bn2.running_var: copying a param with shape torch.Size([4]) from checkpoint, the shape in current model is torch.Size([1]).\n\tsize mismatch for decoder.double_res.res1.conv1.weight: copying a param with shape torch.Size([1, 4, 3, 3]) from checkpoint, the shape in current model is torch.Size([1, 1, 3, 3]).",
     "output_type": "error",
     "traceback": [
      "\u001b[0;31m---------------------------------------------------------------------------\u001b[0m",
      "\u001b[0;31mRuntimeError\u001b[0m                              Traceback (most recent call last)",
      "\u001b[0;32m<ipython-input-22-a65f8103de61>\u001b[0m in \u001b[0;36m<module>\u001b[0;34m\u001b[0m\n\u001b[1;32m      2\u001b[0m \u001b[0;31m# Note: The IncompatibleKeys(missing_keys=[], unexpected_keys=[]) message indicates that\u001b[0m\u001b[0;34m\u001b[0m\u001b[0;34m\u001b[0m\u001b[0;34m\u001b[0m\u001b[0m\n\u001b[1;32m      3\u001b[0m \u001b[0;31m#       there were no problems in loading the state dictionary. Bit confusing...\u001b[0m\u001b[0;34m\u001b[0m\u001b[0;34m\u001b[0m\u001b[0;34m\u001b[0m\u001b[0m\n\u001b[0;32m----> 4\u001b[0;31m \u001b[0mmodel\u001b[0m\u001b[0;34m.\u001b[0m\u001b[0mload_state_dict\u001b[0m\u001b[0;34m(\u001b[0m\u001b[0mcheckpoint\u001b[0m\u001b[0;34m[\u001b[0m\u001b[0;34m'state_dict'\u001b[0m\u001b[0;34m]\u001b[0m\u001b[0;34m)\u001b[0m\u001b[0;34m\u001b[0m\u001b[0;34m\u001b[0m\u001b[0m\n\u001b[0m",
      "\u001b[0;32m/usr/local/lib/python3.6/dist-packages/torch/nn/modules/module.py\u001b[0m in \u001b[0;36mload_state_dict\u001b[0;34m(self, state_dict, strict)\u001b[0m\n\u001b[1;32m    843\u001b[0m         \u001b[0;32mif\u001b[0m \u001b[0mlen\u001b[0m\u001b[0;34m(\u001b[0m\u001b[0merror_msgs\u001b[0m\u001b[0;34m)\u001b[0m \u001b[0;34m>\u001b[0m \u001b[0;36m0\u001b[0m\u001b[0;34m:\u001b[0m\u001b[0;34m\u001b[0m\u001b[0;34m\u001b[0m\u001b[0m\n\u001b[1;32m    844\u001b[0m             raise RuntimeError('Error(s) in loading state_dict for {}:\\n\\t{}'.format(\n\u001b[0;32m--> 845\u001b[0;31m                                self.__class__.__name__, \"\\n\\t\".join(error_msgs)))\n\u001b[0m\u001b[1;32m    846\u001b[0m         \u001b[0;32mreturn\u001b[0m \u001b[0m_IncompatibleKeys\u001b[0m\u001b[0;34m(\u001b[0m\u001b[0mmissing_keys\u001b[0m\u001b[0;34m,\u001b[0m \u001b[0munexpected_keys\u001b[0m\u001b[0;34m)\u001b[0m\u001b[0;34m\u001b[0m\u001b[0;34m\u001b[0m\u001b[0m\n\u001b[1;32m    847\u001b[0m \u001b[0;34m\u001b[0m\u001b[0m\n",
      "\u001b[0;31mRuntimeError\u001b[0m: Error(s) in loading state_dict for ResAutoEncoder:\n\tUnexpected key(s) in state_dict: \"decoder.double_res.res1.bypass.weight\". \n\tsize mismatch for decoder.res_dec_blocks.3.deconv.weight: copying a param with shape torch.Size([8, 4, 4, 4]) from checkpoint, the shape in current model is torch.Size([8, 1, 4, 4]).\n\tsize mismatch for decoder.res_dec_blocks.3.res.res1.conv1.weight: copying a param with shape torch.Size([4, 4, 3, 3]) from checkpoint, the shape in current model is torch.Size([1, 1, 3, 3]).\n\tsize mismatch for decoder.res_dec_blocks.3.res.res1.bn1.weight: copying a param with shape torch.Size([4]) from checkpoint, the shape in current model is torch.Size([1]).\n\tsize mismatch for decoder.res_dec_blocks.3.res.res1.bn1.bias: copying a param with shape torch.Size([4]) from checkpoint, the shape in current model is torch.Size([1]).\n\tsize mismatch for decoder.res_dec_blocks.3.res.res1.bn1.running_mean: copying a param with shape torch.Size([4]) from checkpoint, the shape in current model is torch.Size([1]).\n\tsize mismatch for decoder.res_dec_blocks.3.res.res1.bn1.running_var: copying a param with shape torch.Size([4]) from checkpoint, the shape in current model is torch.Size([1]).\n\tsize mismatch for decoder.res_dec_blocks.3.res.res1.conv2.weight: copying a param with shape torch.Size([4, 4, 3, 3]) from checkpoint, the shape in current model is torch.Size([1, 1, 3, 3]).\n\tsize mismatch for decoder.res_dec_blocks.3.res.res1.bn2.weight: copying a param with shape torch.Size([4]) from checkpoint, the shape in current model is torch.Size([1]).\n\tsize mismatch for decoder.res_dec_blocks.3.res.res1.bn2.bias: copying a param with shape torch.Size([4]) from checkpoint, the shape in current model is torch.Size([1]).\n\tsize mismatch for decoder.res_dec_blocks.3.res.res1.bn2.running_mean: copying a param with shape torch.Size([4]) from checkpoint, the shape in current model is torch.Size([1]).\n\tsize mismatch for decoder.res_dec_blocks.3.res.res1.bn2.running_var: copying a param with shape torch.Size([4]) from checkpoint, the shape in current model is torch.Size([1]).\n\tsize mismatch for decoder.res_dec_blocks.3.res.res2.conv1.weight: copying a param with shape torch.Size([4, 4, 3, 3]) from checkpoint, the shape in current model is torch.Size([1, 1, 3, 3]).\n\tsize mismatch for decoder.res_dec_blocks.3.res.res2.bn1.weight: copying a param with shape torch.Size([4]) from checkpoint, the shape in current model is torch.Size([1]).\n\tsize mismatch for decoder.res_dec_blocks.3.res.res2.bn1.bias: copying a param with shape torch.Size([4]) from checkpoint, the shape in current model is torch.Size([1]).\n\tsize mismatch for decoder.res_dec_blocks.3.res.res2.bn1.running_mean: copying a param with shape torch.Size([4]) from checkpoint, the shape in current model is torch.Size([1]).\n\tsize mismatch for decoder.res_dec_blocks.3.res.res2.bn1.running_var: copying a param with shape torch.Size([4]) from checkpoint, the shape in current model is torch.Size([1]).\n\tsize mismatch for decoder.res_dec_blocks.3.res.res2.conv2.weight: copying a param with shape torch.Size([4, 4, 3, 3]) from checkpoint, the shape in current model is torch.Size([1, 1, 3, 3]).\n\tsize mismatch for decoder.res_dec_blocks.3.res.res2.bn2.weight: copying a param with shape torch.Size([4]) from checkpoint, the shape in current model is torch.Size([1]).\n\tsize mismatch for decoder.res_dec_blocks.3.res.res2.bn2.bias: copying a param with shape torch.Size([4]) from checkpoint, the shape in current model is torch.Size([1]).\n\tsize mismatch for decoder.res_dec_blocks.3.res.res2.bn2.running_mean: copying a param with shape torch.Size([4]) from checkpoint, the shape in current model is torch.Size([1]).\n\tsize mismatch for decoder.res_dec_blocks.3.res.res2.bn2.running_var: copying a param with shape torch.Size([4]) from checkpoint, the shape in current model is torch.Size([1]).\n\tsize mismatch for decoder.double_res.res1.conv1.weight: copying a param with shape torch.Size([1, 4, 3, 3]) from checkpoint, the shape in current model is torch.Size([1, 1, 3, 3])."
     ]
    }
   ],
   "source": [
    "# Load the model's state dictionary\n",
    "# Note: The IncompatibleKeys(missing_keys=[], unexpected_keys=[]) message indicates that\n",
    "#       there were no problems in loading the state dictionary. Bit confusing...\n",
    "model.load_state_dict(checkpoint['state_dict'])"
   ]
  },
  {
   "cell_type": "code",
   "execution_count": null,
   "metadata": {},
   "outputs": [],
   "source": [
    "# Put the model in evaluation mode\n",
    "model.eval()"
   ]
  },
  {
   "cell_type": "markdown",
   "metadata": {},
   "source": [
    "### If evaluating convolutional model, get the size of the code tensor using a random torch tensor"
   ]
  },
  {
   "cell_type": "code",
   "execution_count": null,
   "metadata": {},
   "outputs": [],
   "source": [
    "if 'conv' in AE_root:\n",
    "    code = l_dim\n",
    "    '''\n",
    "    x = torch.randn(1, 1, im_dim, im_dim).to(device)\n",
    "    x = model.encoder(x)\n",
    "    code = (x.shape[1], x.shape[2], x.shape[3])\n",
    "    '''\n",
    "    print(\"Code vector size is: {}\".format(code)) # \"[{} x {} x {}] = {}\".format(code[0], code[1], code[2], code[0]*code[1]*code[2]))"
   ]
  },
  {
   "cell_type": "code",
   "execution_count": null,
   "metadata": {},
   "outputs": [],
   "source": [
    "#x.shape"
   ]
  },
  {
   "cell_type": "markdown",
   "metadata": {},
   "source": [
    "## Load the G config .csv as a dict\n",
    "- Get the model architecture from the config_df"
   ]
  },
  {
   "cell_type": "code",
   "execution_count": null,
   "metadata": {},
   "outputs": [],
   "source": [
    "config_csv = EWM_path + \"config.csv\"\n",
    "config_df = pd.read_csv(config_csv, delimiter = \",\")"
   ]
  },
  {
   "cell_type": "code",
   "execution_count": null,
   "metadata": {},
   "outputs": [],
   "source": [
    "# Get the model architecture from config df\n",
    "MNIST    = bool(config_df[config_df['Unnamed: 0'].str.contains(\"MNIST\")==True]['0'].values.item())\n",
    "dataset  = int(config_df[config_df['Unnamed: 0'].str.contains(\"dataset\")==True]['0'].values.item())\n",
    "model_type = str(config_df[config_df['Unnamed: 0'].str.contains(\"model\")==True]['0'].values.item())\n",
    "depth    = int(config_df[config_df['Unnamed: 0'].str.contains(\"depth\")==True]['0'].values.item())\n",
    "n_layers = int(config_df[config_df['Unnamed: 0'].str.contains(\"n_layers\")==True]['0'].values.item())\n",
    "n_hidden = int(config_df[config_df['Unnamed: 0'].str.contains(\"n_hidden\")==True]['0'].values.item())\n",
    "l_dim    = int(config_df[config_df['Unnamed: 0'].str.contains(\"l_dim\")==True]['0'].values.item())\n",
    "im_size  = int(config_df[config_df['Unnamed: 0'].str.contains(\"dataset\")==True]['0'].values.item())\n",
    "MNIST = False\n",
    "#z_dim    = int(config_df[config_df['Unnamed: 0'].str.contains(\"z_dim\")==True]['0'].values.item())\n",
    "'''\n",
    "print(\"{} Layer model with {} hidden units per layer\".format(n_layers, n_hidden))\n",
    "if 'mlp' in EWM_root:\n",
    "    print(\"Mapping {}_dim_Gaussian to {}_dim code vectors\".format(z_dim, l_dim))\n",
    "else:\n",
    "    print(\"Mapping {}_dim_Gaussian to {}_dim code vectors\".format(z_dim, code))#[0]*code[1]*code[2]))\n",
    "'''"
   ]
  },
  {
   "cell_type": "code",
   "execution_count": null,
   "metadata": {},
   "outputs": [],
   "source": [
    "'''\n",
    "# Get the model architecture from config df\n",
    "n_layers = 4#int(config_df[config_df['Unnamed: 0'].str.contains(\"n_layers\")==True]['0'].values.item())\n",
    "n_hidden = 512#int(config_df[config_df['Unnamed: 0'].str.contains(\"n_hidden\")==True]['0'].values.item())\n",
    "l_dim    = 512#(config_df[config_df['Unnamed: 0'].str.contains(\"l_dim\")==True]['0'].values.item())\n",
    "im_size  = 64#(config_df[config_df['Unnamed: 0'].str.contains(\"dataset\")==True]['0'].values.item())\n",
    "z_dim    = 100#int(config_df[config_df['Unnamed: 0'].str.contains(\"z_dim\")==True]['0'].values.item())\n",
    "\n",
    "print(\"{} Layer model with {} hidden units per layer\".format(n_layers, n_hidden))\n",
    "if 'mlp' in EWM_root:\n",
    "    print(\"Mapping {}_dim_Gaussian to {}_dim code vectors\".format(z_dim, l_dim))\n",
    "else:\n",
    "    print(\"Mapping {}_dim_Gaussian to {}_dim code vectors\".format(z_dim, code))#[0]*code[1]*code[2]))\n",
    "'''"
   ]
  },
  {
   "cell_type": "markdown",
   "metadata": {},
   "source": [
    "## Set up the Generator model"
   ]
  },
  {
   "cell_type": "code",
   "execution_count": null,
   "metadata": {},
   "outputs": [],
   "source": [
    "# Model kwargs\n",
    "# fc_sizes = [n_hidden] * n_layers\n",
    "# ewm_kwargs = { 'z_dim': z_dim, 'fc_sizes': fc_sizes, 'n_out': code} #code[0]*code[1]*code[2]}\n",
    "# fc_sizes = [512] * 4\n",
    "# ewm_kwargs = { 'z_dim': 100, 'fc_sizes': fc_sizes, 'n_out': 384}\n",
    "config = {'MNIST':MNIST, 'model':model_type, 'depth':depth, 'n_layers':n_layers, 'n_hidden':n_hidden,\n",
    "         'l_dim':l_dim, 'im_size':im_size, 'dataset':dataset}\n",
    "ewm_kwargs = setup_model.ewm_kwargs(config)"
   ]
  },
  {
   "cell_type": "code",
   "execution_count": null,
   "metadata": {},
   "outputs": [],
   "source": [
    "# Create generator on GPU\n",
    "G = ewm.ewm_convG(**ewm_kwargs).to(device)"
   ]
  },
  {
   "cell_type": "markdown",
   "metadata": {},
   "source": [
    "## Load EWM model checkpoint"
   ]
  },
  {
   "cell_type": "code",
   "execution_count": null,
   "metadata": {},
   "outputs": [],
   "source": [
    "# Get checkpoint name(s)\n",
    "EWM_checkpoint_path = EWM_path + weights_dir\n",
    "EWM_checkpoint_names = []\n",
    "for file in os.listdir(EWM_checkpoint_path):\n",
    "    EWM_checkpoint_names.append(os.path.join(EWM_checkpoint_path, file))"
   ]
  },
  {
   "cell_type": "code",
   "execution_count": null,
   "metadata": {},
   "outputs": [],
   "source": [
    "print(\"-\"*60)\n",
    "for i in range(len(EWM_checkpoint_names)):\n",
    "    name = EWM_checkpoint_names[i].split('/')[-1]\n",
    "    print(\"\\n {} :\".format(str(i)), name, '\\n')\n",
    "    print(\"-\"*60)"
   ]
  },
  {
   "cell_type": "code",
   "execution_count": null,
   "metadata": {},
   "outputs": [],
   "source": [
    "# Select the checkpoint you want\n",
    "EWM_checkpoint = EWM_checkpoint_names[8]"
   ]
  },
  {
   "cell_type": "code",
   "execution_count": null,
   "metadata": {},
   "outputs": [],
   "source": [
    "# Load the model checkpoint\n",
    "# Keys: ['state_dict', 'epoch', 'optimizer']\n",
    "checkpoint = torch.load(EWM_checkpoint)"
   ]
  },
  {
   "cell_type": "code",
   "execution_count": null,
   "metadata": {},
   "outputs": [],
   "source": [
    "# Load the model's state dictionary\n",
    "# Note: The IncompatibleKeys(missing_keys=[], unexpected_keys=[]) message indicates that\n",
    "#       there were no problems in loading the state dictionary. Bit confusing...\n",
    "G.load_state_dict(checkpoint['state_dict'])"
   ]
  },
  {
   "cell_type": "code",
   "execution_count": null,
   "metadata": {},
   "outputs": [],
   "source": [
    "# Put the model in evaluation mode\n",
    "G.eval()"
   ]
  },
  {
   "cell_type": "markdown",
   "metadata": {},
   "source": [
    "## Check that the l_dim of the AE is the same as the out_dim of the Generator"
   ]
  },
  {
   "cell_type": "code",
   "execution_count": null,
   "metadata": {},
   "outputs": [],
   "source": [
    "if 'mlp' in AE_root:\n",
    "    ae_l_dim = AE.encoder.last.out_features\n",
    "else:\n",
    "    ae_l_dim = code # code[0]*code[1]*code[2]\n",
    "g_out_dim = G.out[0].out_features"
   ]
  },
  {
   "cell_type": "code",
   "execution_count": null,
   "metadata": {},
   "outputs": [],
   "source": [
    "if ae_l_dim != g_out_dim:\n",
    "    print(\"Code vector sizes do not match!\")\n",
    "    print(\"AE: {} | G: {}\".format(ae_l_dim, g_out_dim))\n",
    "else:\n",
    "    print(\"Code vector sizes match\")"
   ]
  },
  {
   "cell_type": "markdown",
   "metadata": {},
   "source": [
    "#### Compute the arguments for reshaping the Generator's output"
   ]
  },
  {
   "cell_type": "code",
   "execution_count": null,
   "metadata": {},
   "outputs": [],
   "source": [
    "model.decoder.deconv_blocks[0][2].in_channels\n",
    "model.decoder.deconv_blocks[0][2].out_channels"
   ]
  },
  {
   "cell_type": "code",
   "execution_count": null,
   "metadata": {},
   "outputs": [],
   "source": [
    "in_f  = model.decoder.deconv_blocks[0][2].in_channels\n",
    "out_f = model.decoder.deconv_blocks[0][2].out_channels\n",
    "d = code\n",
    "'''\n",
    "h = code[1]\n",
    "w = code[2]\n",
    "'''\n",
    "print('[{},{},{},{}]'.format(in_f, out_f, d) # h, w))"
   ]
  },
  {
   "cell_type": "markdown",
   "metadata": {},
   "source": [
    "## Deploy the Decoder using G as an input"
   ]
  },
  {
   "cell_type": "code",
   "execution_count": null,
   "metadata": {},
   "outputs": [],
   "source": [
    "z_dim = 100\n",
    "mean = []; var = []\n",
    "for i in range(1000):\n",
    "    out = G(torch.randn(1, 8, 8, 8).to(device))\n",
    "    out = out.detach().cpu().numpy()\n",
    "    mean.append(np.mean(out))\n",
    "    var.append(np.var(out))"
   ]
  },
  {
   "cell_type": "code",
   "execution_count": null,
   "metadata": {},
   "outputs": [],
   "source": [
    "print(np.mean(mean), np.mean(var))"
   ]
  },
  {
   "cell_type": "code",
   "execution_count": null,
   "metadata": {},
   "outputs": [],
   "source": [
    "%matplotlib inline\n",
    "plt.plot(mean, label='mean')\n",
    "plt.plot(var, label='var')\n",
    "plt.legend()"
   ]
  },
  {
   "cell_type": "code",
   "execution_count": null,
   "metadata": {},
   "outputs": [],
   "source": [
    "samples1 = []; samples2 = []; limit = 16"
   ]
  },
  {
   "cell_type": "code",
   "execution_count": null,
   "metadata": {},
   "outputs": [],
   "source": [
    "for itr in range(limit):\n",
    "    # Create an input vector for G\n",
    "    z_rand = torch.randn(2, 8, 8, 8).to(device)\n",
    "    \n",
    "    # Get a code vector from G\n",
    "    code_vec = G(z_rand).to(device)#.view(2, in_f, h, w).to(device)\n",
    "    print(code_vec.shape)\n",
    "    \n",
    "    # Push code_vec through Decoder\n",
    "    #sample = model.decoder(code_vec)\n",
    "    \n",
    "    # Reshape the sample, detach, and convert to numpy array\n",
    "    samples1.append(code_vec[0].view(im_dim, im_dim).detach().cpu().numpy())\n",
    "    samples2.append(code_vec[1].view(im_dim, im_dim).detach().cpu().numpy())"
   ]
  },
  {
   "cell_type": "code",
   "execution_count": null,
   "metadata": {
    "scrolled": true
   },
   "outputs": [],
   "source": [
    "%matplotlib inline\n",
    "plt.imshow(samples1[0], cmap='gray')"
   ]
  },
  {
   "cell_type": "code",
   "execution_count": null,
   "metadata": {},
   "outputs": [],
   "source": [
    "plt.imshow(samples1[6], cmap='gray')"
   ]
  },
  {
   "cell_type": "markdown",
   "metadata": {},
   "source": [
    "## Viz the deploy samples"
   ]
  },
  {
   "cell_type": "code",
   "execution_count": null,
   "metadata": {},
   "outputs": [],
   "source": [
    "%matplotlib inline\n",
    "# Setup figure\n",
    "fig, axes = plt.subplots(nrows = 2, ncols = 8, sharex=True, sharey=True, figsize=(25,6))\n",
    "\n",
    "# Set title\n",
    "if 'mlp' in AE_root:\n",
    "    m_label = 'AE'\n",
    "else:\n",
    "    m_label = 'Conv_AE'\n",
    "\n",
    "# Generate plot\n",
    "for images, row in zip([samples1, samples2], axes):\n",
    "    for img, ax in zip(images, row):\n",
    "        img = np.reshape(img, (im_dim, im_dim))\n",
    "        ax.imshow(img, cmap='gray')\n",
    "        ax.get_xaxis().set_visible(False)\n",
    "        ax.get_yaxis().set_visible(False)\n",
    "        ax.tick_params(axis='x', colors='#443941')\n",
    "        ax.tick_params(axis='y', colors='#443941')\n",
    "fig.tight_layout()\n",
    "\n",
    "# Save figure\n",
    "save_file = \"ewm_ae_{}.png\".format(im_dim, code)#[0]*code[1]*code[2], m_label)\n",
    "plt.savefig(save_file, dpi=300)"
   ]
  },
  {
   "cell_type": "code",
   "execution_count": null,
   "metadata": {},
   "outputs": [],
   "source": []
  },
  {
   "cell_type": "code",
   "execution_count": null,
   "metadata": {},
   "outputs": [],
   "source": []
  }
 ],
 "metadata": {
  "kernelspec": {
   "display_name": "Python 3",
   "language": "python",
   "name": "python3"
  },
  "language_info": {
   "codemirror_mode": {
    "name": "ipython",
    "version": 3
   },
   "file_extension": ".py",
   "mimetype": "text/x-python",
   "name": "python",
   "nbconvert_exporter": "python",
   "pygments_lexer": "ipython3",
   "version": "3.6.9"
  }
 },
 "nbformat": 4,
 "nbformat_minor": 2
}

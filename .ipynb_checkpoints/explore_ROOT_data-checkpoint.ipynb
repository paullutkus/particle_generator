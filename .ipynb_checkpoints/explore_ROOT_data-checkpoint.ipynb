{
 "cells": [
  {
   "cell_type": "code",
   "execution_count": 1,
   "metadata": {},
   "outputs": [
    {
     "name": "stdout",
     "output_type": "stream",
     "text": [
      "Welcome to JupyROOT 6.16/00\n"
     ]
    }
   ],
   "source": [
    "import os\n",
    "import numpy as np\n",
    "#from tqdm import tqdm\n",
    "\n",
    "import ROOT\n",
    "from ROOT import TChain\n",
    "from larcv import larcv\n",
    "\n",
    "import torch\n",
    "import torch.utils.data\n",
    "import torchvision\n",
    "from torchvision import datasets, transforms \n",
    "from torchvision.utils import save_image\n",
    "\n",
    "import matplotlib.pyplot as plt\n",
    "%matplotlib inline"
   ]
  },
  {
   "cell_type": "code",
   "execution_count": 2,
   "metadata": {},
   "outputs": [
    {
     "name": "stdout",
     "output_type": "stream",
     "text": [
      "TFile**\t\t/home/plutku01/data/LArCV/train_50k.root\t\n",
      " TFile*\t\t/home/plutku01/data/LArCV/train_50k.root\t\n",
      "  KEY: TTree\timage2d_data_tree;1\tdata tree\n",
      "  KEY: TTree\tparticle_mctruth_tree;1\tmctruth tree\n"
     ]
    }
   ],
   "source": [
    "path = '/home/plutku01/data/LArCV/single_particle/'\n",
    "\n",
    "fname = '/home/plutku01/data/LArCV/train_50k.root'\n",
    "ROOT.TFile.Open(fname).ls()"
   ]
  },
  {
   "cell_type": "code",
   "execution_count": 3,
   "metadata": {},
   "outputs": [
    {
     "name": "stdout",
     "output_type": "stream",
     "text": [
      "(50000L, 'entries found')\n"
     ]
    }
   ],
   "source": [
    "chain_image2d = ROOT.TChain('image2d_data_tree')\n",
    "chain_image2d.AddFile('/home/plutku01/data/LArCV/train_50k.root')\n",
    "num_events = chain_image2d.GetEntries()\n",
    "print(num_events, 'entries found')"
   ]
  },
  {
   "cell_type": "code",
   "execution_count": 4,
   "metadata": {},
   "outputs": [],
   "source": [
    "for idx in range(35000):\n",
    "    chain_image2d.GetEntry(idx)\n",
    "    cpp_object = chain_image2d.image2d_data_branch\n",
    "    image2d_array = cpp_object.as_vector()\n",
    "    planes = []\n",
    "    for plane in image2d_array:\n",
    "        planes.append(torch.sum(torch.from_numpy(larcv.as_ndarray(plane))))\n",
    "    img_idx = planes.index(max(planes))\n",
    "    img = torch.from_numpy(larcv.as_ndarray(image2d_array[img_idx]))\n",
    "    img_name = path + 'img{}.png'.format(idx)\n",
    "    torchvision.utils.save_image(img, img_name, normalize=True)\n",
    "        "
   ]
  }
 ],
 "metadata": {
  "kernelspec": {
   "display_name": "Python 2",
   "language": "python",
   "name": "python2"
  },
  "language_info": {
   "codemirror_mode": {
    "name": "ipython",
    "version": 2
   },
   "file_extension": ".py",
   "mimetype": "text/x-python",
   "name": "python",
   "nbconvert_exporter": "python",
   "pygments_lexer": "ipython2",
   "version": "2.7.17"
  }
 },
 "nbformat": 4,
 "nbformat_minor": 2
}
